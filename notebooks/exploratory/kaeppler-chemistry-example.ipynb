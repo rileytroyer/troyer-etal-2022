{
 "cells": [
  {
   "cell_type": "code",
   "execution_count": 1,
   "metadata": {},
   "outputs": [],
   "source": [
    "import datetime\n",
    "from datetime import datetime as dt\n",
    "import h5py\n",
    "import matplotlib.pyplot as plt\n",
    "import numpy\n",
    "import numpy as np\n",
    "#import tables\n",
    "from scipy.interpolate import interp1d\n",
    "\n",
    "from kaeppler_chemistry import Chemistry as Chemistry"
   ]
  },
  {
   "cell_type": "code",
   "execution_count": 2,
   "metadata": {},
   "outputs": [],
   "source": [
    "# Read in class\n",
    "chem = Chemistry(SteadyStateTime = 100., ISRIntegrationTime = 60.)"
   ]
  },
  {
   "cell_type": "code",
   "execution_count": 3,
   "metadata": {},
   "outputs": [],
   "source": [
    "def get_isr_data(pfisr_filename, pfisr_data_dir):\n",
    "    \"\"\"Function to get relevant data from PFISR datafile.\n",
    "    INPUT\n",
    "    pfisr_filename\n",
    "        type: str\n",
    "        about: data file name, should be .h5 file\n",
    "    pfisr_data_dir\n",
    "        type: str\n",
    "        about: directory where isr data is stored\n",
    "    OUTPUT\n",
    "    utc_time\n",
    "        type: array of datetimes\n",
    "        about: time stamp for the start of each measurement\n",
    "    pfisr_altitude\n",
    "        type: array of float\n",
    "        about: altitude stamp for each measurement in meters\n",
    "    e_density\n",
    "        type: array of float\n",
    "        about: electron number density in m^-3\n",
    "    de_density\n",
    "        type: array of float\n",
    "        about: error in number density\n",
    "    \"\"\"\n",
    "    \n",
    "    # Read in the h5 file\n",
    "    pfisr_file = h5py.File(pfisr_data_dir + pfisr_filename, 'r')\n",
    "\n",
    "    # Get the different beams and select specified angle\n",
    "    beam_angle = 90\n",
    "    beams = np.array(pfisr_file['BeamCodes'])\n",
    "\n",
    "    # Get the beam with a 90 degree elevation angle\n",
    "    indexes = np.linspace(0, len(beams)-1, len(beams))\n",
    "    beam_num = int(indexes[np.abs(beams[:,2] - beam_angle) == 0][0])\n",
    "\n",
    "    # Get time and convert to utc datetime\n",
    "    unix_time = np.array(pfisr_file['Time']['UnixTime'])[:,0]\n",
    "    utc_time = np.array([dt.utcfromtimestamp(d) \n",
    "                         for d in unix_time])\n",
    "\n",
    "    # Get the altitude array\n",
    "    pfisr_altitude = np.array(pfisr_file['NeFromPower']\n",
    "                              ['Altitude'])[beam_num, :]\n",
    "\n",
    "    # Get the uncorrected number density array\n",
    "    e_density = np.array(pfisr_file['NeFromPower']\n",
    "                         ['Ne_NoTr'])[:, beam_num, :]\n",
    "\n",
    "    # Take the transpose\n",
    "    e_density = np.transpose(e_density)\n",
    "    \n",
    "    # Find the noise floor by averaging between 55km and 60km\n",
    "    #...assume this should be zero\n",
    "    \n",
    "    # Calculate the power given that power = density/range^2\n",
    "    pfisr_range = np.array(pfisr_file['NeFromPower']\n",
    "                           ['Range'])[0, :]\n",
    "\n",
    "    # Turn 1D array into 2D array for elementwise division\n",
    "    pfisr_range = np.array([pfisr_range,]*e_density.shape[1])\n",
    "    pfisr_range = np.transpose(pfisr_range)\n",
    "    pfisr_power = np.divide(e_density, pfisr_range**2)\n",
    "\n",
    "    # Get the power bias\n",
    "    noise_floor = np.nanmean(pfisr_power[(pfisr_altitude > 55000)\n",
    "                                    & (pfisr_altitude < 60000), :],\n",
    "                              axis=0)\n",
    "\n",
    "    # Loop through each column and subtract off noise floor\n",
    "    for j in range(pfisr_power.shape[1]):\n",
    "        pfisr_power[:, j] = pfisr_power[:, j] - noise_floor[j]   \n",
    "\n",
    "    # Calculate new unbiased density\n",
    "    e_density = np.multiply(pfisr_power, pfisr_range**2)\n",
    "        \n",
    "    \n",
    "    # Get error values\n",
    "    try:\n",
    "        de_density = np.array(pfisr_file['NeFromPower']\n",
    "                              ['errNe_NoTr'])[:, beam_num, :]\n",
    "        de_density = np.transpose(de_density)\n",
    "    except:\n",
    "        de_density = np.array(pfisr_file['NeFromPower']\n",
    "                              ['dNeFrac'])[:, beam_num, :]\n",
    "        de_density = np.transpose(de_density)\n",
    "        de_density = de_density * e_density\n",
    "\n",
    "    # Close file\n",
    "    pfisr_file.close()\n",
    "    \n",
    "    return utc_time, unix_time, pfisr_altitude, e_density, de_density"
   ]
  },
  {
   "cell_type": "code",
   "execution_count": 4,
   "metadata": {},
   "outputs": [],
   "source": [
    "# Read in pfisr data\n",
    "pfisr_data_dir = '../LAMP/data/pfisr-data/barker-code/'\n",
    "#pfisr_filename = '20161013.003_bc_nenotr_1min.h5'\n",
    "pfisr_filename = '20220305.001_bc_nenotr_1min.h5'\n",
    "(utc_time, unix_time,\n",
    " pfisr_altitude, e_density, de_density) = get_isr_data(pfisr_filename, pfisr_data_dir)\n",
    "\n",
    "# Convert to correct units, needs to be in cgs\n",
    "Ne = e_density/1e6\n",
    "dNe = de_density/1e6\n",
    "Alt = pfisr_altitude/1000\n",
    "\n",
    "# Latitude and longitude of instrument\n",
    "glat = 65.12992\n",
    "glon = -147.47104"
   ]
  },
  {
   "cell_type": "code",
   "execution_count": 5,
   "metadata": {},
   "outputs": [],
   "source": [
    "altitude_bins = np.linspace(60e3, 144e3, 100)\n",
    "alt_min = min(altitude_bins)\n",
    "alt_max = max(altitude_bins)\n",
    "alt_step = altitude_bins[1] - altitude_bins[0]"
   ]
  },
  {
   "cell_type": "code",
   "execution_count": 6,
   "metadata": {},
   "outputs": [],
   "source": [
    "# Specify time slice\n",
    "slice_n = 1\n",
    "\n",
    "# Create an interpolation of the pfisr electron density\n",
    "e_density_interp = interp1d(pfisr_altitude, e_density[:, slice_n])"
   ]
  },
  {
   "cell_type": "code",
   "execution_count": 7,
   "metadata": {
    "scrolled": true
   },
   "outputs": [],
   "source": [
    "# OK so now run the initialization to get the background ionosphere \n",
    "#...in the D-region\n",
    "#...altitudes need to be input in km, time is unix\n",
    "chem.Set_Inital_Ionization(unix_time[slice_n], glat, glon,\n",
    "                           alt_min/1000, alt_max/1000, alt_step/1000)"
   ]
  },
  {
   "cell_type": "code",
   "execution_count": 7,
   "metadata": {},
   "outputs": [],
   "source": [
    "import iri2016\n",
    "iri_run = iri2016.IRI(time=datetime.datetime.utcfromtimestamp(unix_time[slice_n]),\n",
    "                              altkmrange=[alt_min/1000, alt_max/1000, alt_step/1000],\n",
    "                              glat=glat, glon=glon)"
   ]
  },
  {
   "cell_type": "code",
   "execution_count": 17,
   "metadata": {},
   "outputs": [],
   "source": [
    "iriDict = {'Ne' : iri_run['ne'].data,\n",
    "                   'Altitude' : iri_run['alt_km'].data}"
   ]
  },
  {
   "cell_type": "code",
   "execution_count": 18,
   "metadata": {},
   "outputs": [
    {
     "data": {
      "text/plain": [
       "array([-1., -1., -1., -1., -1., -1., -1., -1., -1., -1., -1., -1., -1.,\n",
       "       -1., -1., -1., -1., -1., -1., -1., -1., -1., -1., -1., -1., -1.,\n",
       "       -1., -1., -1., -1., -1., -1., -1., -1., -1., -1., -1., -1., -1.,\n",
       "       -1., -1., -1., -1., -1., -1., -1., -1., -1., -1., -1., -1., -1.,\n",
       "       -1., -1., -1., -1., -1., -1., -1., -1., -1., -1., -1., -1., -1.,\n",
       "       -1., -1., -1., -1., -1., -1., -1., -1., -1., -1., -1., -1., -1.,\n",
       "       -1., -1., -1., -1., -1., -1., -1., -1., -1., -1., -1., -1., -1.,\n",
       "       -1., -1., -1., -1., -1., -1., -1., -1., -1.])"
      ]
     },
     "execution_count": 18,
     "metadata": {},
     "output_type": "execute_result"
    }
   ],
   "source": [
    "iriDict['Ne']"
   ]
  },
  {
   "cell_type": "code",
   "execution_count": 10,
   "metadata": {
    "scrolled": true
   },
   "outputs": [],
   "source": [
    "# Run the chemistry code to convert electron density to ionization rate.\n",
    "#...make sure to run initial ionziation code first\n",
    "#...input should be in km and 1/cm^3\n",
    "#...this will output in units of cgs\n",
    "q_estimate = chem.Calculate_Ionization_From_Ne(altitude_bins/1000,\n",
    "                                    e_density_interp(altitude_bins)/1e6,\n",
    "                                    chem.DregionChem)"
   ]
  },
  {
   "cell_type": "code",
   "execution_count": 11,
   "metadata": {},
   "outputs": [],
   "source": [
    "# convert to SI\n",
    "qz_estimate_SI = q_estimate*1e6"
   ]
  },
  {
   "cell_type": "code",
   "execution_count": 12,
   "metadata": {},
   "outputs": [
    {
     "data": {
      "image/png": "[encoded data removed]",
      "text/plain": [
       "<Figure size 432x288 with 1 Axes>"
      ]
     },
     "metadata": {
      "needs_background": "light"
     },
     "output_type": "display_data"
    }
   ],
   "source": [
    "plt.plot(qz_estimate_SI, altitude_bins/1000)\n",
    "plt.ylim(70, 140)\n",
    "plt.xlim(1e7, 3e10)\n",
    "plt.xscale('log')"
   ]
  },
  {
   "cell_type": "code",
   "execution_count": 11,
   "metadata": {},
   "outputs": [
    {
     "data": {
      "text/plain": [
       "array([5.18096352e+00, 0.00000000e+00, 2.05546284e+00, 7.65072250e+00,\n",
       "       0.00000000e+00, 0.00000000e+00, 4.95403051e-01, 7.50927544e+00,\n",
       "       1.77299423e+01, 1.54228592e+01, 0.00000000e+00, 1.16058846e+01,\n",
       "       1.75486679e+01, 5.41809273e+00, 1.23777122e+01, 4.47035065e+01,\n",
       "       5.82535553e+01, 7.49271545e+01, 8.07648010e+01, 1.78794739e+02,\n",
       "       1.97292419e+02, 2.02969421e+02, 3.28106079e+02, 4.07513062e+02,\n",
       "       5.65015381e+02, 1.12204834e+03, 2.02521191e+03, 2.67603223e+03,\n",
       "       3.45659277e+03, 4.61863086e+03, 6.23156836e+03, 7.19051367e+03,\n",
       "       7.13291992e+03, 9.04160547e+03, 9.84926953e+03, 9.75286328e+03,\n",
       "       1.22569414e+04, 9.88380078e+03, 1.07836367e+04, 1.33208633e+04,\n",
       "       1.60033828e+04, 1.69402422e+04, 2.00351797e+04, 1.81488828e+04,\n",
       "       1.92308047e+04, 1.96252266e+04, 2.13589297e+04, 2.12418984e+04,\n",
       "       2.18866328e+04, 2.17346172e+04, 2.20350234e+04, 2.21766641e+04,\n",
       "       1.92013672e+04, 1.70035703e+04, 1.58723828e+04, 1.41313633e+04,\n",
       "       1.38312852e+04, 1.32902617e+04, 1.18232305e+04, 1.41651367e+04,\n",
       "       1.43170977e+04, 1.44357227e+04, 1.41745664e+04, 1.41792773e+04,\n",
       "       1.38451445e+04, 1.23582617e+04, 1.29086758e+04, 1.16642695e+04,\n",
       "       1.03242070e+04, 1.03159414e+04, 9.37569141e+03, 8.19861328e+03,\n",
       "       8.00762891e+03, 7.58786914e+03, 5.78637695e+03, 7.32978320e+03,\n",
       "       6.71710352e+03, 6.37549023e+03, 5.77512305e+03, 5.54479102e+03,\n",
       "       5.78475977e+03, 5.00874414e+03, 4.68738867e+03, 5.39321289e+03,\n",
       "       5.22370508e+03, 5.03116992e+03, 4.61657227e+03, 4.99360352e+03,\n",
       "       4.78902148e+03, 5.81772070e+03, 7.01952539e+03, 4.00497852e+03,\n",
       "       3.72595605e+03, 3.56936035e+03, 3.88921973e+03, 4.31206055e+03,\n",
       "       3.90898633e+03, 3.31824902e+03, 3.82627051e+03, 3.47033691e+03])"
      ]
     },
     "execution_count": 11,
     "metadata": {},
     "output_type": "execute_result"
    }
   ],
   "source": [
    "q_estimate"
   ]
  },
  {
   "cell_type": "code",
   "execution_count": null,
   "metadata": {},
   "outputs": [],
   "source": []
  }
 ],
 "metadata": {
  "kernelspec": {
   "display_name": "Python 3 (ipykernel)",
   "language": "python",
   "name": "python3"
  },
  "language_info": {
   "codemirror_mode": {
    "name": "ipython",
    "version": 3
   },
   "file_extension": ".py",
   "mimetype": "text/x-python",
   "name": "python",
   "nbconvert_exporter": "python",
   "pygments_lexer": "ipython3",
   "version": "3.9.7"
  }
 },
 "nbformat": 4,
 "nbformat_minor": 4
}
