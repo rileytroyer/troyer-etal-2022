{
 "cells": [
  {
   "cell_type": "markdown",
   "id": "3c2a386a",
   "metadata": {},
   "source": [
    "# Code to read in data from SIC runs and write file with recombination coefficient\n",
    "\n",
    "written by Riley Troyer Spring 2022"
   ]
  },
  {
   "cell_type": "code",
   "execution_count": 2,
   "id": "c17ffc6c",
   "metadata": {},
   "outputs": [],
   "source": [
    "# Import libraries\n",
    "import numpy as np\n",
    "import os\n",
    "from matplotlib import pyplot as plt"
   ]
  },
  {
   "cell_type": "code",
   "execution_count": 6,
   "id": "d5ba0667",
   "metadata": {},
   "outputs": [],
   "source": [
    "# Directory where data is stored\n",
    "sic_data_dir = ('../source-energy-pa/data/pfisr-data/'\n",
    "                'sic-runs/exx_data/')"
   ]
  },
  {
   "cell_type": "code",
   "execution_count": 7,
   "id": "b16e61e1",
   "metadata": {},
   "outputs": [
    {
     "data": {
      "text/plain": [
       "['E02_Time_yyyy_mm_dd_hh_mm_ss.dat',\n",
       " 'E01_Ne_cm-3.dat',\n",
       " 'E01_ionElec.jpg',\n",
       " 'E04_ionElec.jpg',\n",
       " 'E03_alt_km.dat',\n",
       " 'E04_Ne_cm-3.dat',\n",
       " 'E01_Time_yyyy_mm_dd_hh_mm_ss.dat',\n",
       " 'E04_alt_km.dat',\n",
       " 'E02_ionElec.jpg',\n",
       " 'E04_Time_yyyy_mm_dd_hh_mm_ss.dat',\n",
       " 'E02_Ne_cm-3.dat',\n",
       " 'E01_alt_km.dat',\n",
       " 'E02_alt_km.dat',\n",
       " 'E01_Alpha_cm3_s-1.dat',\n",
       " 'E04_Alpha_cm3_s-1.dat',\n",
       " 'E02_Alpha_cm3_s-1.dat',\n",
       " 'E03_Ne_cm-3.dat',\n",
       " 'E03_ionElec.jpg',\n",
       " 'E03_Alpha_cm3_s-1.dat',\n",
       " 'E03_Time_yyyy_mm_dd_hh_mm_ss.dat']"
      ]
     },
     "execution_count": 7,
     "metadata": {},
     "output_type": "execute_result"
    }
   ],
   "source": [
    "os.listdir(sic_data_dir)"
   ]
  },
  {
   "cell_type": "code",
   "execution_count": 14,
   "id": "4c34392c",
   "metadata": {},
   "outputs": [],
   "source": [
    "run_num = 'E04'\n",
    "# Read in data\n",
    "sic_ne = np.loadtxt(sic_data_dir + run_num + '_Ne_cm-3.dat')\n",
    "sic_alpha = np.loadtxt(sic_data_dir + run_num + '_Alpha_cm3_s-1.dat')\n",
    "sic_time = np.loadtxt(sic_data_dir + run_num + '_Time_yyyy_mm_dd_hh_mm_ss.dat')\n",
    "sic_alt = np.loadtxt(sic_data_dir + run_num + '_alt_km.dat')\n",
    "\n",
    "# Get number density for specific time\n",
    "n_slice = 133\n",
    "\n",
    "sic_time_slice = sic_time[n_slice, :]\n",
    "sic_ne_slice = sic_ne[:, n_slice] * 1e6\n",
    "sic_alpha_slice = sic_alpha[:, n_slice] * 1e-6"
   ]
  },
  {
   "cell_type": "code",
   "execution_count": 15,
   "id": "8e4ebd67",
   "metadata": {},
   "outputs": [
    {
     "data": {
      "text/plain": [
       "array([[2.012e+03, 1.000e+00, 4.000e+00, 0.000e+00, 0.000e+00, 0.000e+00],\n",
       "       [2.012e+03, 1.000e+00, 4.000e+00, 0.000e+00, 5.000e+00, 0.000e+00],\n",
       "       [2.012e+03, 1.000e+00, 4.000e+00, 0.000e+00, 1.000e+01, 0.000e+00],\n",
       "       ...,\n",
       "       [2.012e+03, 1.000e+00, 4.000e+00, 2.300e+01, 4.500e+01, 0.000e+00],\n",
       "       [2.012e+03, 1.000e+00, 4.000e+00, 2.300e+01, 5.000e+01, 0.000e+00],\n",
       "       [2.012e+03, 1.000e+00, 4.000e+00, 2.300e+01, 5.500e+01, 0.000e+00]])"
      ]
     },
     "execution_count": 15,
     "metadata": {},
     "output_type": "execute_result"
    }
   ],
   "source": [
    "sic_time"
   ]
  },
  {
   "cell_type": "code",
   "execution_count": 38,
   "id": "4dc9d332",
   "metadata": {},
   "outputs": [
    {
     "data": {
      "text/plain": [
       "(1e-13, 1e-10)"
      ]
     },
     "execution_count": 38,
     "metadata": {},
     "output_type": "execute_result"
    },
    {
     "data": {
      "image/png": "[encoded data removed]",
      "text/plain": [
       "<Figure size 432x288 with 1 Axes>"
      ]
     },
     "metadata": {
      "needs_background": "light"
     },
     "output_type": "display_data"
    }
   ],
   "source": [
    "# Plot alpha\n",
    "fig, ax = plt.subplots()\n",
    "\n",
    "# Title and axis\n",
    "ax.set_title('Ion Recombination Coefficient', fontsize=14)\n",
    "\n",
    "ax.set_xlabel(r'$\\alpha$ $[m^{3} \\cdot s^{-1}]$', fontsize=14)\n",
    "ax.set_ylabel('Altitude [km]', fontsize=14)\n",
    "\n",
    "# Plot the rates\n",
    "ax.plot(sic_alpha_slice, sic_alt)\n",
    "ax.set_xscale('log')\n",
    "ax.tick_params(labelsize=12)\n",
    "\n",
    "ax.set_ylim(55, 144)\n",
    "ax.set_xlim(1e-13, 1e-10)"
   ]
  },
  {
   "cell_type": "code",
   "execution_count": 30,
   "id": "af6798c2",
   "metadata": {},
   "outputs": [
    {
     "data": {
      "image/png": "[encoded data removed]",
      "text/plain": [
       "<Figure size 432x288 with 1 Axes>"
      ]
     },
     "metadata": {
      "needs_background": "light"
     },
     "output_type": "display_data"
    }
   ],
   "source": [
    "# Plot electron density\n",
    "fig, ax = plt.subplots()\n",
    "\n",
    "# Title and axis\n",
    "ax.set_title('Electron Density', fontsize=14)\n",
    "\n",
    "ax.set_xlabel(r'$Ne$ $[m^{-3}]$', fontsize=14)\n",
    "ax.set_ylabel('Altitude [km]', fontsize=14)\n",
    "\n",
    "# Plot the rates\n",
    "ax.plot(sic_ne_slice, sic_alt)\n",
    "ax.set_xscale('log')\n",
    "ax.tick_params(labelsize=12)"
   ]
  },
  {
   "cell_type": "code",
   "execution_count": null,
   "id": "e039b56f",
   "metadata": {},
   "outputs": [],
   "source": []
  }
 ],
 "metadata": {
  "kernelspec": {
   "display_name": "Python 3 (ipykernel)",
   "language": "python",
   "name": "python3"
  },
  "language_info": {
   "codemirror_mode": {
    "name": "ipython",
    "version": 3
   },
   "file_extension": ".py",
   "mimetype": "text/x-python",
   "name": "python",
   "nbconvert_exporter": "python",
   "pygments_lexer": "ipython3",
   "version": "3.9.7"
  }
 },
 "nbformat": 4,
 "nbformat_minor": 5
}
