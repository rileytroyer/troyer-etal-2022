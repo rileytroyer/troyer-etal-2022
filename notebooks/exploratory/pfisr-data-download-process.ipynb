{
 "cells": [
  {
   "cell_type": "code",
   "execution_count": 2,
   "metadata": {},
   "outputs": [],
   "source": [
    "# Import needed libraries\n",
    "from datetime import datetime\n",
    "import pandas as pd\n",
    "import logging\n"
   ]
  },
  {
   "cell_type": "code",
   "execution_count": null,
   "metadata": {},
   "outputs": [],
   "source": [
    "\n",
    "# Import functions to do downloading and processing\n",
    "#from ../src.data.pfrr_asi_data_functions import download_pfrr_images, pfrr_asi_to_hdf5_8bit_clahe\n",
    "\n",
    "# Important directories\n",
    "project_dir = '/data/projects/new-project-structure/pfisr-energy/'\n",
    "data_dir = project_dir + 'data/'\n",
    "logs_dir = project_dir + 'logs/'\n",
    "\n",
    "# Initiate logging\n",
    "logging.basicConfig(filename = f'download-process-pfrr-asi-{datetime.today().date()}.log',\n",
    "                    encoding='utf-8',\n",
    "                    format='%(asctime)s %(levelname)-8s %(message)s',\n",
    "                    level=logging.INFO,\n",
    "                    datefmt='%Y-%m-%d %H:%M:%S')"
   ]
  },
  {
   "cell_type": "code",
   "execution_count": 14,
   "metadata": {},
   "outputs": [],
   "source": [
    "# Load in the file with days to download and process data for\n",
    "days_list_file = data_dir + 'processed/pa-pfisr-database-table.xlsx'\n",
    "days_list = pd.read_excel(days_list_file).loc[:, 'Date']\n",
    "\n",
    "days_list = [d.to_pydatetime() for d in days_list]"
   ]
  },
  {
   "cell_type": "code",
   "execution_count": 1,
   "metadata": {},
   "outputs": [
    {
     "name": "stdout",
     "output_type": "stream",
     "text": [
      "a number: 3.45\n"
     ]
    }
   ],
   "source": [
    "test = 3.44568\n",
    "print(f'a number: {test:0.2f}')"
   ]
  },
  {
   "cell_type": "code",
   "execution_count": null,
   "metadata": {},
   "outputs": [],
   "source": []
  }
 ],
 "metadata": {
  "kernelspec": {
   "display_name": "pfisr-energy",
   "language": "python",
   "name": "python3"
  },
  "language_info": {
   "codemirror_mode": {
    "name": "ipython",
    "version": 3
   },
   "file_extension": ".py",
   "mimetype": "text/x-python",
   "name": "python",
   "nbconvert_exporter": "python",
   "pygments_lexer": "ipython3",
   "version": "3.9.2"
  },
  "orig_nbformat": 4
 },
 "nbformat": 4,
 "nbformat_minor": 2
}
